{
 "cells": [
  {
   "cell_type": "code",
   "execution_count": 4,
   "metadata": {},
   "outputs": [
    {
     "name": "stdout",
     "output_type": "stream",
     "text": [
      "          Modelo       TPR        F1  Precisión  Exactitud\n",
      "0            KNN  0.540284  0.554745   0.540284   0.547030\n",
      "1            SVM  0.488525  0.590099   0.488525   0.487624\n",
      "2  Random Forest  0.947368  0.968215   0.947368   0.967822\n"
     ]
    }
   ],
   "source": [
    "import pandas as pd\n",
    "import numpy as np\n",
    "import seaborn as sns\n",
    "from sklearn.metrics import precision_score, accuracy_score, recall_score, f1_score\n",
    "from sklearn.model_selection import train_test_split\n",
    "from sklearn.neighbors import KNeighborsClassifier\n",
    "from sklearn.svm import SVC\n",
    "from sklearn.ensemble import RandomForestClassifier\n",
    "from sklearn.neural_network import MLPClassifier\n",
    "\n",
    "# leemos el dataset\n",
    "attributes_spotify = pd.read_csv(\n",
    "    \"https://raw.githubusercontent.com/emmanueliarussi/DataScienceCapstone/master/3_MidtermProjects/ProjectBOM/data/attributes_spotify.csv\")\n",
    "\n",
    "# eliminamos columnas que no se utilizaran\n",
    "attributes_spotify.drop('Unnamed: 0', inplace=True, axis=1)\n",
    "attributes_spotify.drop('song_title', inplace=True, axis=1)\n",
    "attributes_spotify.drop('artist', inplace=True, axis=1)\n",
    "\n",
    "# modelos a comparar\n",
    "names = [\n",
    "    \"KNN\",\n",
    "    \"SVM\",\n",
    "    \"Random Forest\"\n",
    "]\n",
    "\n",
    "models = [\n",
    "    KNeighborsClassifier(5),\n",
    "    SVC(kernel=\"linear\", C=0.025),\n",
    "    RandomForestClassifier(max_depth=5, n_estimators=10, max_features=1)\n",
    "]\n",
    "\n",
    "data = {\n",
    "    \"Modelo\": names,\n",
    "    \"TPR\": [],\n",
    "    \"F1\": [],\n",
    "    \"Precisión\": [],\n",
    "    \"Exactitud\": [],\n",
    "}\n",
    "\n",
    "# porcentajes para el train-validation-test\n",
    "train_ratio = 0.60\n",
    "validation_ratio = 0.20\n",
    "test_ratio = 0.20\n",
    "\n",
    "# split del dataset para entrenar\n",
    "x_train, x_test, y_train, y_test = train_test_split(\n",
    "    attributes_spotify, attributes_spotify.target, test_size=1-train_ratio)\n",
    "\n",
    "# split del dataset para validar\n",
    "x_val, x_test, y_val, y_test = train_test_split(\n",
    "    x_test, y_test, test_size=test_ratio/(test_ratio + validation_ratio))\n",
    "\n",
    "# ejecucion de los modelos\n",
    "for name, model in zip(names, models):\n",
    "    model.fit(x_val, y_val)\n",
    "    predicted = model.predict(x_test)\n",
    "\n",
    "    # visualizacion de datos\n",
    "    data[\"TPR\"].append(precision_score(y_test, predicted))\n",
    "    data[\"F1\"].append(f1_score(y_test, predicted))\n",
    "    data[\"Precisión\"].append(precision_score(y_test, predicted))\n",
    "    data[\"Exactitud\"].append(accuracy_score(y_test, predicted))\n",
    "\n",
    "print(pd.DataFrame(data))"
   ]
  }
 ],
 "metadata": {
  "interpreter": {
   "hash": "f148a83e95b261b4bc5eae110cb2d3f7088143a5af85f873a66197eb59270d58"
  },
  "kernelspec": {
   "display_name": "Python 3.9.7 ('k-nn')",
   "language": "python",
   "name": "python3"
  },
  "language_info": {
   "codemirror_mode": {
    "name": "ipython",
    "version": 3
   },
   "file_extension": ".py",
   "mimetype": "text/x-python",
   "name": "python",
   "nbconvert_exporter": "python",
   "pygments_lexer": "ipython3",
   "version": "3.9.7"
  },
  "orig_nbformat": 4
 },
 "nbformat": 4,
 "nbformat_minor": 2
}
