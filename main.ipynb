{
 "cells": [
  {
   "cell_type": "code",
   "execution_count": 4,
   "metadata": {},
   "outputs": [],
   "source": [
    "%matplotlib inline"
   ]
  },
  {
   "cell_type": "code",
   "execution_count": 5,
   "metadata": {},
   "outputs": [
    {
     "data": {
      "image/png": "[encoded data removed]",
      "text/plain": [
       "<Figure size 432x288 with 1 Axes>"
      ]
     },
     "metadata": {
      "needs_background": "light"
     },
     "output_type": "display_data"
    }
   ],
   "source": [
    "import pandas as pd\n",
    "import numpy as np\n",
    "import matplotlib.pyplot as plt\n",
    "from sklearn.model_selection import train_test_split\n",
    "from sklearn.neighbors import KNeighborsClassifier\n",
    "\n",
    "#leemos el dataset\n",
    "attributes_spotify = pd.read_csv(\"https://raw.githubusercontent.com/emmanueliarussi/DataScienceCapstone/master/3_MidtermProjects/ProjectBOM/data/attributes_spotify.csv\")\n",
    "\n",
    "#eliminamos columnas que no se utilizaran\n",
    "attributes_spotify.drop('Unnamed: 0', inplace=True, axis=1)\n",
    "attributes_spotify.drop('song_title', inplace=True, axis=1)\n",
    "attributes_spotify.drop('artist', inplace=True, axis=1)\n",
    "\n",
    "# Split del dataset en 50% para entrenar y 50% para testear\n",
    "X_train, X_test, y_train, y_test = train_test_split(\n",
    "    attributes_spotify, attributes_spotify.target, test_size=0.5\n",
    ")\n",
    "\n",
    "# ejecucion del modelo\n",
    "knn = KNeighborsClassifier(9)\n",
    "knn.fit(X_train, y_train)\n",
    "predicted = knn.predict(X_test)\n",
    "\n",
    "result = [0, 0]\n",
    "\n",
    "# separo la cantidad de canciones que gustaron/no gustaron\n",
    "for p in predicted:\n",
    "    if(p == 1):\n",
    "        result[0] += 1\n",
    "    else:\n",
    "        result[1] += 1\n",
    "\n",
    "# visualizacion de datos\n",
    "colors = plt.get_cmap('Blues')(np.linspace(0.2, 0.7, len(result)))\n",
    "\n",
    "fig, ax = plt.subplots()\n",
    "\n",
    "ax.pie(result, colors=colors, radius=3, center=(4, 4), labels=['Gusto', 'No Gusto'],\n",
    "       wedgeprops={\"linewidth\": 1, \"edgecolor\": \"white\"}, frame=True)\n",
    "\n",
    "ax.set(xlim=(0, 8), xticks=np.arange(1, 8),\n",
    "       ylim=(0, 8), yticks=np.arange(1, 8))\n",
    "\n",
    "plt.show()"
   ]
  }
 ],
 "metadata": {
  "interpreter": {
   "hash": "f148a83e95b261b4bc5eae110cb2d3f7088143a5af85f873a66197eb59270d58"
  },
  "kernelspec": {
   "display_name": "Python 3.9.7 ('k-nn')",
   "language": "python",
   "name": "python3"
  },
  "language_info": {
   "codemirror_mode": {
    "name": "ipython",
    "version": 3
   },
   "file_extension": ".py",
   "mimetype": "text/x-python",
   "name": "python",
   "nbconvert_exporter": "python",
   "pygments_lexer": "ipython3",
   "version": "3.9.7"
  },
  "orig_nbformat": 4
 },
 "nbformat": 4,
 "nbformat_minor": 2
}
